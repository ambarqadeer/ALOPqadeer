{
 "cells": [
  {
   "cell_type": "code",
   "execution_count": 1,
   "metadata": {},
   "outputs": [],
   "source": [
    "from astropy.io import fits\n",
    "import matplotlib.pyplot as plt\n",
    "import astropy.units as u\n",
    "import numpy as np\n",
    "import ccdproc\n",
    "from astropy.nddata import CCDData\n",
    "import glob\n",
    "import os"
   ]
  },
  {
   "cell_type": "code",
   "execution_count": 3,
   "metadata": {},
   "outputs": [
    {
     "name": "stdout",
     "output_type": "stream",
     "text": [
      "found 10 flats\n",
      "opened Logs/HD115709/flat_SII\\r1382111.fit\n",
      "opened Logs/HD115709/flat_SII\\r1382112.fit\n",
      "[[False False False ... False False False]\n",
      " [False False False ... False False False]\n",
      " [False False False ... False False False]\n",
      " ...\n",
      " [False False False ... False False False]\n",
      " [False False False ... False False False]\n",
      " [False False False ... False False False]]\n"
     ]
    },
    {
     "data": {
      "text/plain": [
       "\"\\nplt.figure(figsize=(20,15))\\nplt.imshow(mask,origin='lower')\\nplt.show()\\nplt.figure(figsize=(20,15))\\nplt.imshow(tccdflat0.data,origin='lower')\\nplt.show()\\n\""
      ]
     },
     "execution_count": 3,
     "metadata": {},
     "output_type": "execute_result"
    }
   ],
   "source": [
    "flatlist=sorted(glob.glob('Logs/HD115709/flat_SII/r*.fit'))\n",
    "print('found',len(flatlist),'flats')\n",
    "\n",
    "hduf0=fits.open(flatlist[0])\n",
    "flat0=hduf0[4].data\n",
    "ccdflat0=CCDData(flat0,unit=u.adu)\n",
    "hduf0.close()\n",
    "print('opened',flatlist[0])\n",
    "\n",
    "hduf1=fits.open(flatlist[1])\n",
    "flat1=hduf1[4].data\n",
    "ccdflat1=CCDData(flat1,unit=u.adu)\n",
    "hduf1.close()\n",
    "print('opened',flatlist[1])\n",
    "\n",
    "tccdflat0=ccdproc.trim_image(ccdflat0,fits_section='[288:1617,1046:2509]')\n",
    "tccdflat1=ccdproc.trim_image(ccdflat1,fits_section='[288:1617,1046:2509]')\n",
    "ccdflatratio=CCDData(tccdflat0.data/tccdflat1.data,unit=u.adu)\n",
    "\n",
    "mask=ccdproc.ccdmask(ccdflatratio,findbadcolumns=True,ncmed=20,nlmed=20)\n",
    "data=CCDData(mask,unit=u.s)\n",
    "print(data.data)\n",
    "#data.write('Testing/mask.fits',overwrite=True)\n",
    "'''\n",
    "plt.figure(figsize=(20,15))\n",
    "plt.imshow(mask,origin='lower')\n",
    "plt.show()\n",
    "plt.figure(figsize=(20,15))\n",
    "plt.imshow(tccdflat0.data,origin='lower')\n",
    "plt.show()\n",
    "'''"
   ]
  }
 ],
 "metadata": {
  "kernelspec": {
   "display_name": "Python 3",
   "language": "python",
   "name": "python3"
  },
  "language_info": {
   "codemirror_mode": {
    "name": "ipython",
    "version": 3
   },
   "file_extension": ".py",
   "mimetype": "text/x-python",
   "name": "python",
   "nbconvert_exporter": "python",
   "pygments_lexer": "ipython3",
   "version": "3.7.3"
  }
 },
 "nbformat": 4,
 "nbformat_minor": 2
}
