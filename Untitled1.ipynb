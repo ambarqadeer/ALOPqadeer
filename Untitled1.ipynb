{
 "cells": [
  {
   "cell_type": "code",
   "execution_count": 1,
   "metadata": {},
   "outputs": [],
   "source": [
    "import sp\n",
    "from astropy.io import ascii\n",
    "import time\n",
    "import ccdproc as ccdp\n",
    "from astropy.nddata import CCDData\n",
    "import numpy as np\n",
    "import glob\n",
    "import itertools\n",
    "from astropy.table import Table\n",
    "from astropy import table\n",
    "import Logs\n",
    "from astropy.convolution import convolve, Box1DKernel\n",
    "import matplotlib.pyplot as plt"
   ]
  },
  {
   "cell_type": "code",
   "execution_count": 5,
   "metadata": {},
   "outputs": [],
   "source": [
    "science=ccdp.ImageFileCollection('Final_Science/median')\n",
    "\n",
    "\n",
    "'''\n",
    "for i in science.hdus():\n",
    "    if i.header['gain']!=2.9:\n",
    "        print ('automate')\n",
    "'''\n",
    "\n",
    "\n"
   ]
  }
 ],
 "metadata": {
  "kernelspec": {
   "display_name": "Python 3",
   "language": "python",
   "name": "python3"
  },
  "language_info": {
   "codemirror_mode": {
    "name": "ipython",
    "version": 3
   },
   "file_extension": ".py",
   "mimetype": "text/x-python",
   "name": "python",
   "nbconvert_exporter": "python",
   "pygments_lexer": "ipython3",
   "version": "3.7.6"
  }
 },
 "nbformat": 4,
 "nbformat_minor": 4
}
